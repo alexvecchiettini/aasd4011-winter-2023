{
 "cells": [
  {
   "cell_type": "code",
   "execution_count": 1,
   "metadata": {},
   "outputs": [
    {
     "name": "stdout",
     "output_type": "stream",
     "text": [
      "Tensor: tensor([10, 10])\n",
      "PyTorch version: 1.13.1+cpu\n",
      "Succeeded\n"
     ]
    }
   ],
   "source": [
    "try:\n",
    "    import torch\n",
    "    print(f'Tensor: {torch.tensor([10, 10])}')\n",
    "    print(f'PyTorch version: {torch.__version__}')    \n",
    "    print('Succeeded')\n",
    "except:\n",
    "    print(\"Didn't succeed\")"
   ]
  },
  {
   "cell_type": "code",
   "execution_count": null,
   "metadata": {},
   "outputs": [],
   "source": []
  }
 ],
 "metadata": {
  "kernelspec": {
   "display_name": "Python 3.9.13 ('pytorch_cpu': venv)",
   "language": "python",
   "name": "python3"
  },
  "language_info": {
   "codemirror_mode": {
    "name": "ipython",
    "version": 3
   },
   "file_extension": ".py",
   "mimetype": "text/x-python",
   "name": "python",
   "nbconvert_exporter": "python",
   "pygments_lexer": "ipython3",
   "version": "3.9.13"
  },
  "orig_nbformat": 4,
  "vscode": {
   "interpreter": {
    "hash": "895c03966e2c8c818aea370376bff6d7c9788960c0a7a651f12103a4d091de8a"
   }
  }
 },
 "nbformat": 4,
 "nbformat_minor": 2
}
